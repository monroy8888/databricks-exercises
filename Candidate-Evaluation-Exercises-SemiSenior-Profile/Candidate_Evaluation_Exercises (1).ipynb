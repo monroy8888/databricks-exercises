{
 "cells": [
  {
   "cell_type": "markdown",
   "metadata": {
    "application/vnd.databricks.v1+cell": {
     "cellMetadata": {},
     "inputWidgets": {},
     "nuid": "569d36ca-503b-470a-94b4-192be0515161",
     "showTitle": false,
     "title": ""
    }
   },
   "source": [
    "\n",
    "# Candidate Evaluation Exercises for SemiSenior Profile\n",
    "\n",
    "This notebook contains exercises designed to evaluate a candidate's proficiency in Python programming, PySpark data processing, and AWS Cloud data solutions.\n"
   ]
  },
  {
   "cell_type": "markdown",
   "metadata": {
    "application/vnd.databricks.v1+cell": {
     "cellMetadata": {},
     "inputWidgets": {},
     "nuid": "08a0d5df-4c79-401d-9bb5-4ac2c438eadd",
     "showTitle": false,
     "title": ""
    }
   },
   "source": [
    "\n",
    "## Python Programming Exercise\n",
    "\n",
    "**Task:** Write a Python class that represents a simple bank account. The class should have methods to deposit, withdraw, and check the balance, with basic error handling for withdrawal limits.\n"
   ]
  },
  {
   "cell_type": "code",
   "execution_count": 0,
   "metadata": {
    "application/vnd.databricks.v1+cell": {
     "cellMetadata": {},
     "inputWidgets": {},
     "nuid": "16f6578a-b107-458c-80b1-22186cb863d2",
     "showTitle": false,
     "title": ""
    }
   },
   "outputs": [],
   "source": []
  },
  {
   "cell_type": "markdown",
   "metadata": {
    "application/vnd.databricks.v1+cell": {
     "cellMetadata": {},
     "inputWidgets": {},
     "nuid": "adc78ba4-5e4c-4dc5-a89a-77afdbf8e787",
     "showTitle": false,
     "title": ""
    }
   },
   "source": [
    "\n",
    "## PySpark Data Processing Exercise\n",
    "\n",
    "**Task:** Given a PySpark DataFrame `df` with columns `name` and `salary`, write a PySpark query to calculate the average salary and filter out individuals earning more than the average salary."
   ]
  },
  {
   "cell_type": "code",
   "execution_count": 0,
   "metadata": {
    "application/vnd.databricks.v1+cell": {
     "cellMetadata": {},
     "inputWidgets": {},
     "nuid": "4a3eaca5-fc16-4d45-8d17-20d46b96c7b5",
     "showTitle": false,
     "title": ""
    }
   },
   "outputs": [],
   "source": []
  },
  {
   "cell_type": "markdown",
   "metadata": {
    "application/vnd.databricks.v1+cell": {
     "cellMetadata": {},
     "inputWidgets": {},
     "nuid": "9181ad2e-17eb-4e9a-b640-5cbddce95465",
     "showTitle": false,
     "title": ""
    }
   },
   "source": [
    "\n",
    "## AWS Cloud Data Solutions Exercise\n",
    "\n",
    "**Task:** Design a cloud-based data pipeline using AWS services that ingests, processes, and visualizes large datasets. The solution should ensure data security, be cost-effective, and scale based on demand.\n",
    "\n",
    "### Detailed Requirements\n",
    "1. **Data Ingestion:** \n",
    "2. **Data Storage:** \n",
    "3. **Data Processing:** \n",
    "4. **Data Visualization:** \n",
    "5. **Security and Compliance:**"
   ]
  }
 ],
 "metadata": {
  "application/vnd.databricks.v1+notebook": {
   "dashboards": [],
   "language": "python",
   "notebookMetadata": {
    "pythonIndentUnit": 4
   },
   "notebookName": "Candidate_Evaluation_Exercises (1)",
   "widgets": {}
  },
  "kernelspec": {
   "display_name": "Python 3",
   "language": "python",
   "name": "python3"
  },
  "language_info": {
   "name": "python",
   "version": "3.11.0"
  }
 },
 "nbformat": 4,
 "nbformat_minor": 0
}
